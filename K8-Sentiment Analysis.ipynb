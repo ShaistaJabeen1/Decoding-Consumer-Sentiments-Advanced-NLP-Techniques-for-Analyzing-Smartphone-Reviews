{
 "cells": [
  {
   "cell_type": "markdown",
   "id": "3bd8feed-460d-461c-94b0-5f65901d150e",
   "metadata": {},
   "source": [
    "## Importing Required Libraries"
   ]
  },
  {
   "cell_type": "code",
   "execution_count": 9,
   "id": "9ff37662-e5f6-4e24-85de-b001a671bc84",
   "metadata": {},
   "outputs": [],
   "source": [
    "import pandas as pd\n",
    "import seaborn as sns\n",
    "import matplotlib.pyplot as plt\n",
    "from sklearn.model_selection import train_test_split\n",
    "from transformers import BertTokenizer\n",
    "from tensorflow.keras.optimizers import Adam\n",
    "sns.set(style=\"darkgrid\")"
   ]
  },
  {
   "cell_type": "markdown",
   "id": "508411c5-461d-4bb0-928b-e43ab774e4fb",
   "metadata": {},
   "source": [
    "## Importing the Dataset"
   ]
  },
  {
   "cell_type": "code",
   "execution_count": 17,
   "id": "9bc5f8b0-0bc4-4150-bd37-0c5d2b9dd6f9",
   "metadata": {},
   "outputs": [
    {
     "name": "stdout",
     "output_type": "stream",
     "text": [
      "(14675, 2)\n"
     ]
    },
    {
     "data": {
      "text/html": [
       "<div>\n",
       "<style scoped>\n",
       "    .dataframe tbody tr th:only-of-type {\n",
       "        vertical-align: middle;\n",
       "    }\n",
       "\n",
       "    .dataframe tbody tr th {\n",
       "        vertical-align: top;\n",
       "    }\n",
       "\n",
       "    .dataframe thead th {\n",
       "        text-align: right;\n",
       "    }\n",
       "</style>\n",
       "<table border=\"1\" class=\"dataframe\">\n",
       "  <thead>\n",
       "    <tr style=\"text-align: right;\">\n",
       "      <th></th>\n",
       "      <th>sentiment</th>\n",
       "      <th>review</th>\n",
       "    </tr>\n",
       "  </thead>\n",
       "  <tbody>\n",
       "    <tr>\n",
       "      <th>0</th>\n",
       "      <td>1</td>\n",
       "      <td>Good but need updates and improvements</td>\n",
       "    </tr>\n",
       "    <tr>\n",
       "      <th>1</th>\n",
       "      <td>0</td>\n",
       "      <td>Worst mobile i have bought ever, Battery is dr...</td>\n",
       "    </tr>\n",
       "    <tr>\n",
       "      <th>2</th>\n",
       "      <td>1</td>\n",
       "      <td>when I will get my 10% cash back.... its alrea...</td>\n",
       "    </tr>\n",
       "    <tr>\n",
       "      <th>3</th>\n",
       "      <td>1</td>\n",
       "      <td>Good</td>\n",
       "    </tr>\n",
       "    <tr>\n",
       "      <th>4</th>\n",
       "      <td>0</td>\n",
       "      <td>The worst phone everThey have changed the last...</td>\n",
       "    </tr>\n",
       "  </tbody>\n",
       "</table>\n",
       "</div>"
      ],
      "text/plain": [
       "   sentiment                                             review\n",
       "0          1             Good but need updates and improvements\n",
       "1          0  Worst mobile i have bought ever, Battery is dr...\n",
       "2          1  when I will get my 10% cash back.... its alrea...\n",
       "3          1                                               Good\n",
       "4          0  The worst phone everThey have changed the last..."
      ]
     },
     "execution_count": 17,
     "metadata": {},
     "output_type": "execute_result"
    }
   ],
   "source": [
    "file_path = r\"D:\\\\Paper Dataset\\\\K8 Reviews v0.2.csv\"\n",
    "df = pd.read_csv(file_path)\n",
    "\n",
    "# Display the first few rows of the DataFrame\n",
    "print(df.shape)\n",
    "df.head()"
   ]
  },
  {
   "cell_type": "code",
   "execution_count": 18,
   "id": "8a5dcc35-2e81-4ef4-b0bc-78b225f2ea58",
   "metadata": {},
   "outputs": [],
   "source": [
    "df['sentiment'] = df['sentiment'].replace({1: 'positive', 0: 'negative'})\n",
    "df['sentiment'] = df['sentiment'].astype(str)"
   ]
  },
  {
   "cell_type": "code",
   "execution_count": 19,
   "id": "c6d4472d-e5a8-4564-82db-c26228bc91f8",
   "metadata": {},
   "outputs": [
    {
     "data": {
      "text/plain": [
       "sentiment\n",
       "negative    7712\n",
       "positive    6963\n",
       "Name: count, dtype: int64"
      ]
     },
     "execution_count": 19,
     "metadata": {},
     "output_type": "execute_result"
    }
   ],
   "source": [
    "df[\"sentiment\"].value_counts()"
   ]
  },
  {
   "cell_type": "code",
   "execution_count": 20,
   "id": "cf652a10-e105-41a6-9c96-45919ebe9eef",
   "metadata": {},
   "outputs": [
    {
     "data": {
      "image/png": "[encoded data removed]",
      "text/plain": [
       "<Figure size 640x480 with 1 Axes>"
      ]
     },
     "metadata": {},
     "output_type": "display_data"
    }
   ],
   "source": [
    "# Plot the value counts as a bar plot\n",
    "df['sentiment'].value_counts().plot(kind='bar')\n",
    "\n",
    "# Set the title and labels\n",
    "plt.title('Rating Distribution')\n",
    "plt.xlabel('Rating')\n",
    "plt.ylabel('No. of Reviews')\n",
    "\n",
    "categories = df['sentiment'].value_counts().index  # Get the categories (which are the index of the value_counts Series)\n",
    "custom_labels = [cat for cat in categories]  # Create custom labels\n",
    "plt.xticks(ticks=range(len(categories)), labels=custom_labels, rotation=45)  # Set custom labels with rotation\n",
    "\n",
    "# Show the plot\n",
    "plt.show()"
   ]
  },
  {
   "cell_type": "code",
   "execution_count": 22,
   "id": "97b599da-038a-4336-9386-3b4936875d50",
   "metadata": {},
   "outputs": [
    {
     "data": {
      "text/html": [
       "<div>\n",
       "<style scoped>\n",
       "    .dataframe tbody tr th:only-of-type {\n",
       "        vertical-align: middle;\n",
       "    }\n",
       "\n",
       "    .dataframe tbody tr th {\n",
       "        vertical-align: top;\n",
       "    }\n",
       "\n",
       "    .dataframe thead th {\n",
       "        text-align: right;\n",
       "    }\n",
       "</style>\n",
       "<table border=\"1\" class=\"dataframe\">\n",
       "  <thead>\n",
       "    <tr style=\"text-align: right;\">\n",
       "      <th></th>\n",
       "      <th>negative</th>\n",
       "      <th>positive</th>\n",
       "    </tr>\n",
       "  </thead>\n",
       "  <tbody>\n",
       "    <tr>\n",
       "      <th>0</th>\n",
       "      <td>0</td>\n",
       "      <td>1</td>\n",
       "    </tr>\n",
       "    <tr>\n",
       "      <th>1</th>\n",
       "      <td>1</td>\n",
       "      <td>0</td>\n",
       "    </tr>\n",
       "    <tr>\n",
       "      <th>2</th>\n",
       "      <td>0</td>\n",
       "      <td>1</td>\n",
       "    </tr>\n",
       "    <tr>\n",
       "      <th>3</th>\n",
       "      <td>0</td>\n",
       "      <td>1</td>\n",
       "    </tr>\n",
       "    <tr>\n",
       "      <th>4</th>\n",
       "      <td>1</td>\n",
       "      <td>0</td>\n",
       "    </tr>\n",
       "    <tr>\n",
       "      <th>...</th>\n",
       "      <td>...</td>\n",
       "      <td>...</td>\n",
       "    </tr>\n",
       "    <tr>\n",
       "      <th>14670</th>\n",
       "      <td>0</td>\n",
       "      <td>1</td>\n",
       "    </tr>\n",
       "    <tr>\n",
       "      <th>14671</th>\n",
       "      <td>0</td>\n",
       "      <td>1</td>\n",
       "    </tr>\n",
       "    <tr>\n",
       "      <th>14672</th>\n",
       "      <td>0</td>\n",
       "      <td>1</td>\n",
       "    </tr>\n",
       "    <tr>\n",
       "      <th>14673</th>\n",
       "      <td>0</td>\n",
       "      <td>1</td>\n",
       "    </tr>\n",
       "    <tr>\n",
       "      <th>14674</th>\n",
       "      <td>0</td>\n",
       "      <td>1</td>\n",
       "    </tr>\n",
       "  </tbody>\n",
       "</table>\n",
       "<p>14675 rows × 2 columns</p>\n",
       "</div>"
      ],
      "text/plain": [
       "       negative  positive\n",
       "0             0         1\n",
       "1             1         0\n",
       "2             0         1\n",
       "3             0         1\n",
       "4             1         0\n",
       "...         ...       ...\n",
       "14670         0         1\n",
       "14671         0         1\n",
       "14672         0         1\n",
       "14673         0         1\n",
       "14674         0         1\n",
       "\n",
       "[14675 rows x 2 columns]"
      ]
     },
     "execution_count": 22,
     "metadata": {},
     "output_type": "execute_result"
    }
   ],
   "source": [
    "# Step 1: Create X and y\n",
    "X = df['review']\n",
    "y = pd.get_dummies(df['sentiment'])  # Step 2: One-hot encode y\n",
    "y = y.astype(int)\n",
    "y"
   ]
  },
  {
   "cell_type": "code",
   "execution_count": 23,
   "id": "b81e58b0-3cb8-476f-ae82-d188f869f6a4",
   "metadata": {},
   "outputs": [],
   "source": [
    "# Initial split: 80% for training, 20% for temporary dataset\n",
    "X_train, X_temp, y_train, y_temp = train_test_split(X, y, test_size=0.2, random_state=42)\n",
    "\n",
    "# Split the temporary dataset equally into validation and test sets: 10% each of the original dataset\n",
    "X_val, X_test, y_val, y_test = train_test_split(X_temp, y_temp, test_size=0.5, random_state=42)"
   ]
  },
  {
   "cell_type": "code",
   "execution_count": 24,
   "id": "0f079d56-f258-47ab-8b69-6d1226047ffc",
   "metadata": {},
   "outputs": [
    {
     "name": "stderr",
     "output_type": "stream",
     "text": [
      "C:\\Users\\Chetouani\\anaconda3\\envs\\py310\\lib\\site-packages\\transformers\\tokenization_utils_base.py:2645: FutureWarning: The `pad_to_max_length` argument is deprecated and will be removed in a future version, use `padding=True` or `padding='longest'` to pad to the longest sequence in the batch, or use `padding='max_length'` to pad to a max length. In this case, you can give a specific length with `max_length` (e.g. `max_length=45`) or leave max_length to None to pad to the maximal input size of the model (e.g. 512 for Bert).\n",
      "  warnings.warn(\n"
     ]
    }
   ],
   "source": [
    "\n",
    "# Load the BERT tokenizer\n",
    "tokenizer = BertTokenizer.from_pretrained('bert-base-uncased')\n",
    "\n",
    "# Tokenize and prepare the data for BERT\n",
    "def encode_reviews(tokenizer, reviews, max_length):\n",
    "    return tokenizer.batch_encode_plus(\n",
    "        reviews,\n",
    "        add_special_tokens=True,\n",
    "        return_attention_mask=True,\n",
    "        pad_to_max_length=True,\n",
    "        max_length=max_length,\n",
    "        truncation = True,\n",
    "        return_tensors='tf',\n",
    "    )\n",
    "\n",
    "# Choose a maximum sequence length for BERT\n",
    "max_length = 256\n",
    "\n",
    "# Encode the datasets\n",
    "train_encodings = encode_reviews(tokenizer, X_train.tolist(), max_length)\n",
    "val_encodings = encode_reviews(tokenizer, X_val.tolist(), max_length)\n",
    "test_encodings = encode_reviews(tokenizer, X_test.tolist(), max_length)"
   ]
  },
  {
   "cell_type": "code",
   "execution_count": 25,
   "id": "7ba0909f-1c30-4ce1-86a2-035b4c9cbb51",
   "metadata": {},
   "outputs": [
    {
     "name": "stderr",
     "output_type": "stream",
     "text": [
      "Some weights of the PyTorch model were not used when initializing the TF 2.0 model TFBertModel: ['cls.predictions.transform.dense.bias', 'cls.predictions.transform.LayerNorm.bias', 'cls.seq_relationship.weight', 'cls.predictions.transform.LayerNorm.weight', 'cls.predictions.transform.dense.weight', 'cls.seq_relationship.bias', 'cls.predictions.bias']\n",
      "- This IS expected if you are initializing TFBertModel from a PyTorch model trained on another task or with another architecture (e.g. initializing a TFBertForSequenceClassification model from a BertForPreTraining model).\n",
      "- This IS NOT expected if you are initializing TFBertModel from a PyTorch model that you expect to be exactly identical (e.g. initializing a TFBertForSequenceClassification model from a BertForSequenceClassification model).\n",
      "All the weights of TFBertModel were initialized from the PyTorch model.\n",
      "If your task is similar to the task the model of the checkpoint was trained on, you can already use TFBertModel for predictions without further training.\n"
     ]
    },
    {
     "name": "stdout",
     "output_type": "stream",
     "text": [
      "Model: \"model\"\n",
      "__________________________________________________________________________________________________\n",
      " Layer (type)                   Output Shape         Param #     Connected to                     \n",
      "==================================================================================================\n",
      " input_ids (InputLayer)         [(None, 256)]        0           []                               \n",
      "                                                                                                  \n",
      " attention_masks (InputLayer)   [(None, 256)]        0           []                               \n",
      "                                                                                                  \n",
      " tf_bert_model (TFBertModel)    TFBaseModelOutputWi  109482240   ['input_ids[0][0]',              \n",
      "                                thPoolingAndCrossAt               'attention_masks[0][0]']        \n",
      "                                tentions(last_hidde                                               \n",
      "                                n_state=(None, 256,                                               \n",
      "                                 768),                                                            \n",
      "                                 pooler_output=(Non                                               \n",
      "                                e, 768),                                                          \n",
      "                                 past_key_values=No                                               \n",
      "                                ne, hidden_states=N                                               \n",
      "                                one, attentions=Non                                               \n",
      "                                e, cross_attentions                                               \n",
      "                                =None)                                                            \n",
      "                                                                                                  \n",
      " tf.__operators__.getitem (Slic  (None, 768)         0           ['tf_bert_model[0][0]']          \n",
      " ingOpLambda)                                                                                     \n",
      "                                                                                                  \n",
      " dense (Dense)                  (None, 512)          393728      ['tf.__operators__.getitem[0][0]'\n",
      "                                                                 ]                                \n",
      "                                                                                                  \n",
      " dropout_37 (Dropout)           (None, 512)          0           ['dense[0][0]']                  \n",
      "                                                                                                  \n",
      " dense_1 (Dense)                (None, 256)          131328      ['dropout_37[0][0]']             \n",
      "                                                                                                  \n",
      " dense_2 (Dense)                (None, 2)            514         ['dense_1[0][0]']                \n",
      "                                                                                                  \n",
      "==================================================================================================\n",
      "Total params: 110,007,810\n",
      "Trainable params: 110,007,810\n",
      "Non-trainable params: 0\n",
      "__________________________________________________________________________________________________\n"
     ]
    }
   ],
   "source": [
    "from transformers import TFBertModel\n",
    "from tensorflow.keras.layers import Input, Dense, Dropout\n",
    "from tensorflow.keras.models import Model\n",
    "\n",
    "\n",
    "# Load the pre-trained BERT model\n",
    "bert = TFBertModel.from_pretrained('bert-base-uncased')\n",
    "\n",
    "# Build the model\n",
    "input_ids = Input(shape=(max_length,), dtype='int32', name='input_ids')\n",
    "attention_masks = Input(shape=(max_length,), dtype='int32', name='attention_masks')\n",
    "\n",
    "# Get the sequence output\n",
    "sequence_output = bert(input_ids, attention_mask=attention_masks)[0]\n",
    "\n",
    "# Select the first token's last hidden state\n",
    "cls_token = sequence_output[:, 0, :]\n",
    "\n",
    "# Add custom layers\n",
    "x = Dense(512, activation='relu')(cls_token)\n",
    "x = Dropout(0.1)(x)\n",
    "x = Dense(256, activation='relu')(x)\n",
    "output = Dense(y.shape[1], activation='softmax')(x)\n",
    "\n",
    "# Compile the model\n",
    "model = Model(inputs=[input_ids, attention_masks], outputs=output)\n",
    "\n",
    "# Adjust the learning rate\n",
    "optimizer = Adam(learning_rate=2e-5)\n",
    "\n",
    "# Compile the model with the new optimizer\n",
    "model.compile(optimizer=optimizer, loss='categorical_crossentropy', metrics=['accuracy'])\n",
    "\n",
    "# Summary of the model\n",
    "model.summary()"
   ]
  },
  {
   "cell_type": "code",
   "execution_count": 26,
   "id": "62d06174-85dc-456c-8ed9-9624198e390d",
   "metadata": {},
   "outputs": [
    {
     "name": "stdout",
     "output_type": "stream",
     "text": [
      "Epoch 1/10\n",
      "WARNING:tensorflow:Gradients do not exist for variables ['tf_bert_model/bert/pooler/dense/kernel:0', 'tf_bert_model/bert/pooler/dense/bias:0'] when minimizing the loss. If you're using `model.compile()`, did you forget to provide a `loss` argument?\n",
      "WARNING:tensorflow:Gradients do not exist for variables ['tf_bert_model/bert/pooler/dense/kernel:0', 'tf_bert_model/bert/pooler/dense/bias:0'] when minimizing the loss. If you're using `model.compile()`, did you forget to provide a `loss` argument?\n",
      "734/734 [==============================] - 285s 336ms/step - loss: 0.3108 - accuracy: 0.8709 - val_loss: 0.2696 - val_accuracy: 0.8950\n",
      "Epoch 2/10\n",
      "734/734 [==============================] - 231s 315ms/step - loss: 0.2337 - accuracy: 0.9126 - val_loss: 0.2860 - val_accuracy: 0.8943\n",
      "Epoch 3/10\n",
      "734/734 [==============================] - 233s 317ms/step - loss: 0.1796 - accuracy: 0.9357 - val_loss: 0.3550 - val_accuracy: 0.8793\n",
      "Epoch 4/10\n",
      "734/734 [==============================] - 228s 310ms/step - loss: 0.1374 - accuracy: 0.9530 - val_loss: 0.3625 - val_accuracy: 0.8753\n",
      "Epoch 5/10\n",
      "734/734 [==============================] - 235s 320ms/step - loss: 0.1052 - accuracy: 0.9658 - val_loss: 0.4643 - val_accuracy: 0.8766\n",
      "Epoch 6/10\n",
      "734/734 [==============================] - 237s 323ms/step - loss: 0.0849 - accuracy: 0.9717 - val_loss: 0.5497 - val_accuracy: 0.8807\n",
      "Epoch 7/10\n",
      "734/734 [==============================] - 235s 320ms/step - loss: 0.0715 - accuracy: 0.9767 - val_loss: 0.6232 - val_accuracy: 0.8793\n",
      "Epoch 8/10\n",
      "734/734 [==============================] - 233s 318ms/step - loss: 0.0687 - accuracy: 0.9768 - val_loss: 0.6031 - val_accuracy: 0.8787\n",
      "Epoch 9/10\n",
      "734/734 [==============================] - 228s 310ms/step - loss: 0.0594 - accuracy: 0.9804 - val_loss: 0.6049 - val_accuracy: 0.8807\n",
      "Epoch 10/10\n",
      "734/734 [==============================] - 226s 308ms/step - loss: 0.0630 - accuracy: 0.9790 - val_loss: 0.5987 - val_accuracy: 0.8800\n"
     ]
    }
   ],
   "source": [
    "from tensorflow.keras.callbacks import ModelCheckpoint\n",
    "\n",
    "model_save_path = r\"D:\\Marketing Paper\\best_model_k8.h5\"\n",
    "\n",
    "checkpoint = ModelCheckpoint(model_save_path, monitor='val_accuracy', save_best_only=True)\n",
    "\n",
    "# Train the model\n",
    "history = model.fit(\n",
    "    [train_encodings['input_ids'], train_encodings['attention_mask']],\n",
    "    y_train,\n",
    "    validation_data=([\n",
    "        val_encodings['input_ids'], val_encodings['attention_mask']\n",
    "    ], y_val),\n",
    "    epochs=10,\n",
    "    batch_size=16,  # Specify your desired batch size here\n",
    "    callbacks=[checkpoint]\n",
    ")\n"
   ]
  },
  {
   "cell_type": "code",
   "execution_count": 27,
   "id": "95abedb1-f3ee-4228-901d-6158d081d10f",
   "metadata": {},
   "outputs": [
    {
     "name": "stdout",
     "output_type": "stream",
     "text": [
      "WARNING:tensorflow:Error in loading the saved optimizer state. As a result, your model is starting with a freshly initialized optimizer.\n",
      "46/46 [==============================] - 17s 189ms/step - loss: 0.2663 - accuracy: 0.9033\n",
      "Test Loss: 0.26634666323661804, Test Accuracy: 0.9032697677612305\n"
     ]
    }
   ],
   "source": [
    "from tensorflow.keras.models import load_model\n",
    "\n",
    "# Load the best model\n",
    "best_model = load_model(model_save_path, custom_objects={'TFBertModel': TFBertModel})\n",
    "\n",
    "# # Recompile the model with the optimizer, loss, and metrics\n",
    "# model.compile(optimizer=Adam(learning_rate=2e-5), loss='categorical_crossentropy', metrics=['accuracy'])\n",
    "\n",
    "# Evaluate the model on the test set\n",
    "test_loss, test_acc = best_model.evaluate(\n",
    "    [test_encodings['input_ids'], test_encodings['attention_mask']],\n",
    "    y_test\n",
    ")\n",
    "\n",
    "print(f\"Test Loss: {test_loss}, Test Accuracy: {test_acc}\")"
   ]
  },
  {
   "cell_type": "code",
   "execution_count": 28,
   "id": "6c2ebb00-c187-4382-bbb7-0e510c9f3df9",
   "metadata": {},
   "outputs": [
    {
     "name": "stdout",
     "output_type": "stream",
     "text": [
      "46/46 [==============================] - 15s 189ms/step\n",
      "              precision    recall  f1-score   support\n",
      "\n",
      "    negative       0.89      0.92      0.91       766\n",
      "    positive       0.91      0.88      0.90       702\n",
      "\n",
      "    accuracy                           0.90      1468\n",
      "   macro avg       0.90      0.90      0.90      1468\n",
      "weighted avg       0.90      0.90      0.90      1468\n",
      "\n",
      "Accuracy for class negative: 0.92\n",
      "Accuracy for class positive: 0.88\n"
     ]
    }
   ],
   "source": [
    "from sklearn.metrics import classification_report, confusion_matrix\n",
    "\n",
    "# Assuming `test_encodings` is already prepared similar to `train_encodings` and `val_encodings`\n",
    "predictions = best_model.predict([test_encodings['input_ids'], test_encodings['attention_mask']])\n",
    "\n",
    "# Assuming you have predictions from the model\n",
    "predicted_class_indices = predictions.argmax(axis=1)\n",
    "\n",
    "class_names = y_test.columns.tolist() \n",
    "\n",
    "# Convert y_test from one-hot encoding to class indices\n",
    "true_class_indices = y_test.idxmax(axis=1).apply(class_names.index).values\n",
    "\n",
    "\n",
    "# Generate the classification report using the true and predicted class indices\n",
    "report = classification_report(true_class_indices, predicted_class_indices, target_names=class_names)\n",
    "print(report)\n",
    "\n",
    "# Generate the confusion matrix\n",
    "cm = confusion_matrix(true_class_indices, predicted_class_indices)\n",
    "\n",
    "# Calculate accuracy for each class\n",
    "class_accuracies = cm.diagonal() / cm.sum(axis=1)\n",
    "for class_name, accuracy in zip(class_names, class_accuracies):\n",
    "    print(f'Accuracy for class {class_name}: {accuracy:.2f}')"
   ]
  },
  {
   "cell_type": "code",
   "execution_count": null,
   "id": "0b860e51-c4dc-42c8-81fb-fa207fa02a26",
   "metadata": {},
   "outputs": [],
   "source": []
  }
 ],
 "metadata": {
  "kernelspec": {
   "display_name": "Python 3 (ipykernel)",
   "language": "python",
   "name": "python3"
  },
  "language_info": {
   "codemirror_mode": {
    "name": "ipython",
    "version": 3
   },
   "file_extension": ".py",
   "mimetype": "text/x-python",
   "name": "python",
   "nbconvert_exporter": "python",
   "pygments_lexer": "ipython3",
   "version": "3.10.13"
  }
 },
 "nbformat": 4,
 "nbformat_minor": 5
}
