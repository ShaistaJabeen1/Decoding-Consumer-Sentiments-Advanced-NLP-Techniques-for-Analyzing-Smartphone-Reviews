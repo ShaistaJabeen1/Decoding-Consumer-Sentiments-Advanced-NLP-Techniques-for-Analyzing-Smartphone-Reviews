{
 "cells": [
  {
   "cell_type": "markdown",
   "id": "59110159-1ab6-4a9a-88a4-8b6dd3611ded",
   "metadata": {},
   "source": [
    "## Importing Required Libraries"
   ]
  },
  {
   "cell_type": "code",
   "execution_count": 1,
   "id": "063cabf1-0a29-46e4-b5f8-6523c244e98e",
   "metadata": {},
   "outputs": [],
   "source": [
    "import pandas as pd\n",
    "import seaborn as sns\n",
    "import matplotlib.pyplot as plt\n",
    "from sklearn.model_selection import train_test_split\n",
    "from transformers import BertTokenizer\n",
    "from tensorflow.keras.optimizers import Adam\n",
    "sns.set(style=\"darkgrid\")"
   ]
  },
  {
   "cell_type": "markdown",
   "id": "6cb7a179-911d-44cb-aa61-c249848b632b",
   "metadata": {},
   "source": [
    "## Importing the Dataset"
   ]
  },
  {
   "cell_type": "code",
   "execution_count": 2,
   "id": "3656f349-e5b2-491f-a5e8-2c916255de9e",
   "metadata": {},
   "outputs": [
    {
     "name": "stdout",
     "output_type": "stream",
     "text": [
      "(5010, 11)\n"
     ]
    },
    {
     "data": {
      "text/html": [
       "<div>\n",
       "<style scoped>\n",
       "    .dataframe tbody tr th:only-of-type {\n",
       "        vertical-align: middle;\n",
       "    }\n",
       "\n",
       "    .dataframe tbody tr th {\n",
       "        vertical-align: top;\n",
       "    }\n",
       "\n",
       "    .dataframe thead th {\n",
       "        text-align: right;\n",
       "    }\n",
       "</style>\n",
       "<table border=\"1\" class=\"dataframe\">\n",
       "  <thead>\n",
       "    <tr style=\"text-align: right;\">\n",
       "      <th></th>\n",
       "      <th>product</th>\n",
       "      <th>helpful_count</th>\n",
       "      <th>total_comments</th>\n",
       "      <th>url</th>\n",
       "      <th>review_country</th>\n",
       "      <th>reviewed_at</th>\n",
       "      <th>review_text</th>\n",
       "      <th>review_rating</th>\n",
       "      <th>product_company</th>\n",
       "      <th>profile_name</th>\n",
       "      <th>review_title</th>\n",
       "    </tr>\n",
       "  </thead>\n",
       "  <tbody>\n",
       "    <tr>\n",
       "      <th>0</th>\n",
       "      <td>Apple iPhone XR (64GB) - Black</td>\n",
       "      <td>5,087 people found this helpful</td>\n",
       "      <td>24</td>\n",
       "      <td>https://www.amazon.in/Apple-iPhone-XR-64GB-Bla...</td>\n",
       "      <td>India</td>\n",
       "      <td>2018-12-12</td>\n",
       "      <td>NOTE:</td>\n",
       "      <td>3.0 out of 5 stars</td>\n",
       "      <td>Apple</td>\n",
       "      <td>Sameer Patil</td>\n",
       "      <td>Which iPhone you should Purchase ? iPhone 8, X...</td>\n",
       "    </tr>\n",
       "    <tr>\n",
       "      <th>1</th>\n",
       "      <td>Apple iPhone XR (64GB) - Black</td>\n",
       "      <td>2,822 people found this helpful</td>\n",
       "      <td>6</td>\n",
       "      <td>https://www.amazon.in/Apple-iPhone-XR-64GB-Bla...</td>\n",
       "      <td>India</td>\n",
       "      <td>2018-11-17</td>\n",
       "      <td>Very bad experience with this iPhone xr phone....</td>\n",
       "      <td>1.0 out of 5 stars</td>\n",
       "      <td>Apple</td>\n",
       "      <td>Amazon Customer</td>\n",
       "      <td>Don't buy iPhone xr from Amazon.</td>\n",
       "    </tr>\n",
       "    <tr>\n",
       "      <th>2</th>\n",
       "      <td>Apple iPhone XR (64GB) - Black</td>\n",
       "      <td>1,798 people found this helpful</td>\n",
       "      <td>0</td>\n",
       "      <td>https://www.amazon.in/Apple-iPhone-XR-64GB-Bla...</td>\n",
       "      <td>India</td>\n",
       "      <td>2019-01-27</td>\n",
       "      <td>Amazing phone with amazing camera coming from ...</td>\n",
       "      <td>5.0 out of 5 stars</td>\n",
       "      <td>Apple</td>\n",
       "      <td>A</td>\n",
       "      <td>Happy with the purchase</td>\n",
       "    </tr>\n",
       "    <tr>\n",
       "      <th>3</th>\n",
       "      <td>Apple iPhone XR (64GB) - Black</td>\n",
       "      <td>1,366 people found this helpful</td>\n",
       "      <td>14</td>\n",
       "      <td>https://www.amazon.in/Apple-iPhone-XR-64GB-Bla...</td>\n",
       "      <td>India</td>\n",
       "      <td>2019-05-02</td>\n",
       "      <td>So I got the iPhone XR just today. The product...</td>\n",
       "      <td>1.0 out of 5 stars</td>\n",
       "      <td>Apple</td>\n",
       "      <td>Shubham Dutta</td>\n",
       "      <td>Amazon is not an apple authorised reseller. Pl...</td>\n",
       "    </tr>\n",
       "    <tr>\n",
       "      <th>4</th>\n",
       "      <td>Apple iPhone XR (64GB) - Black</td>\n",
       "      <td>536 people found this helpful</td>\n",
       "      <td>5</td>\n",
       "      <td>https://www.amazon.in/Apple-iPhone-XR-64GB-Bla...</td>\n",
       "      <td>India</td>\n",
       "      <td>2019-05-24</td>\n",
       "      <td>I've been an android user all my life until I ...</td>\n",
       "      <td>5.0 out of 5 stars</td>\n",
       "      <td>Apple</td>\n",
       "      <td>Nepuni Lokho</td>\n",
       "      <td>Excellent Battery life and buttery smooth UI</td>\n",
       "    </tr>\n",
       "  </tbody>\n",
       "</table>\n",
       "</div>"
      ],
      "text/plain": [
       "                          product                    helpful_count  \\\n",
       "0  Apple iPhone XR (64GB) - Black  5,087 people found this helpful   \n",
       "1  Apple iPhone XR (64GB) - Black  2,822 people found this helpful   \n",
       "2  Apple iPhone XR (64GB) - Black  1,798 people found this helpful   \n",
       "3  Apple iPhone XR (64GB) - Black  1,366 people found this helpful   \n",
       "4  Apple iPhone XR (64GB) - Black    536 people found this helpful   \n",
       "\n",
       "   total_comments                                                url  \\\n",
       "0              24  https://www.amazon.in/Apple-iPhone-XR-64GB-Bla...   \n",
       "1               6  https://www.amazon.in/Apple-iPhone-XR-64GB-Bla...   \n",
       "2               0  https://www.amazon.in/Apple-iPhone-XR-64GB-Bla...   \n",
       "3              14  https://www.amazon.in/Apple-iPhone-XR-64GB-Bla...   \n",
       "4               5  https://www.amazon.in/Apple-iPhone-XR-64GB-Bla...   \n",
       "\n",
       "  review_country reviewed_at  \\\n",
       "0         India   2018-12-12   \n",
       "1         India   2018-11-17   \n",
       "2         India   2019-01-27   \n",
       "3         India   2019-05-02   \n",
       "4         India   2019-05-24   \n",
       "\n",
       "                                         review_text       review_rating  \\\n",
       "0                                              NOTE:  3.0 out of 5 stars   \n",
       "1  Very bad experience with this iPhone xr phone....  1.0 out of 5 stars   \n",
       "2  Amazing phone with amazing camera coming from ...  5.0 out of 5 stars   \n",
       "3  So I got the iPhone XR just today. The product...  1.0 out of 5 stars   \n",
       "4  I've been an android user all my life until I ...  5.0 out of 5 stars   \n",
       "\n",
       "  product_company     profile_name  \\\n",
       "0           Apple     Sameer Patil   \n",
       "1           Apple  Amazon Customer   \n",
       "2           Apple                A   \n",
       "3           Apple    Shubham Dutta   \n",
       "4           Apple     Nepuni Lokho   \n",
       "\n",
       "                                        review_title  \n",
       "0  Which iPhone you should Purchase ? iPhone 8, X...  \n",
       "1                   Don't buy iPhone xr from Amazon.  \n",
       "2                            Happy with the purchase  \n",
       "3  Amazon is not an apple authorised reseller. Pl...  \n",
       "4       Excellent Battery life and buttery smooth UI  "
      ]
     },
     "execution_count": 2,
     "metadata": {},
     "output_type": "execute_result"
    }
   ],
   "source": [
    "file_path = r\"D:\\\\Paper Dataset\\\\apple_iphone_11_reviews.json\"\n",
    "df = pd.read_json(file_path)\n",
    "\n",
    "# Display the first few rows of the DataFrame\n",
    "print(df.shape)\n",
    "df.head()"
   ]
  },
  {
   "cell_type": "code",
   "execution_count": 3,
   "id": "002cb155-de90-483a-9c00-5e8d445ec14f",
   "metadata": {},
   "outputs": [
    {
     "data": {
      "text/plain": [
       "review_rating\n",
       "5.0 out of 5 stars    3731\n",
       "4.0 out of 5 stars     720\n",
       "1.0 out of 5 stars     319\n",
       "3.0 out of 5 stars     153\n",
       "2.0 out of 5 stars      87\n",
       "Name: count, dtype: int64"
      ]
     },
     "execution_count": 3,
     "metadata": {},
     "output_type": "execute_result"
    }
   ],
   "source": [
    "df[\"review_rating\"].value_counts()"
   ]
  },
  {
   "cell_type": "code",
   "execution_count": 4,
   "id": "258064b8-3029-4ade-af6a-1155df477936",
   "metadata": {},
   "outputs": [
    {
     "data": {
      "text/plain": [
       "numeric_rating\n",
       "5.0    3731\n",
       "4.0     720\n",
       "1.0     319\n",
       "3.0     153\n",
       "2.0      87\n",
       "Name: count, dtype: int64"
      ]
     },
     "execution_count": 4,
     "metadata": {},
     "output_type": "execute_result"
    }
   ],
   "source": [
    "# Extract the numeric rating and convert to float\n",
    "df['numeric_rating'] = df[\"review_rating\"].str.extract(r'([0-9]+\\.?[0-9]*)').astype(float)\n",
    "\n",
    "df['numeric_rating'].value_counts()"
   ]
  },
  {
   "cell_type": "code",
   "execution_count": 5,
   "id": "94ce248d-f470-4241-83a0-078fa2f7b790",
   "metadata": {},
   "outputs": [
    {
     "data": {
      "text/plain": [
       "categorical_rating\n",
       "positive    4451\n",
       "negative     406\n",
       "neutral      153\n",
       "Name: count, dtype: int64"
      ]
     },
     "execution_count": 5,
     "metadata": {},
     "output_type": "execute_result"
    }
   ],
   "source": [
    "# Function to convert ratings\n",
    "def convert_rating(rating):\n",
    "    if rating >= 4.0:\n",
    "        return 'positive'\n",
    "    elif rating == 3.0:\n",
    "        return 'neutral'\n",
    "    else:\n",
    "        return 'negative'\n",
    "\n",
    "# Apply the function to the rating column\n",
    "df['categorical_rating'] = df['numeric_rating'].apply(convert_rating)\n",
    "\n",
    "df['categorical_rating'].value_counts()"
   ]
  },
  {
   "cell_type": "code",
   "execution_count": 6,
   "id": "750c0e11-b452-46c3-81be-da9b87657019",
   "metadata": {},
   "outputs": [
    {
     "data": {
      "image/png": "[encoded data removed]",
      "text/plain": [
       "<Figure size 640x480 with 1 Axes>"
      ]
     },
     "metadata": {},
     "output_type": "display_data"
    }
   ],
   "source": [
    "# Plot the value counts as a bar plot\n",
    "df['categorical_rating'].value_counts().plot(kind='bar')\n",
    "\n",
    "# Set the title and labels\n",
    "plt.title('Rating Distribution')\n",
    "plt.xlabel('Rating')\n",
    "plt.ylabel('No. of Reviews')\n",
    "\n",
    "categories = df['categorical_rating'].value_counts().index  # Get the categories (which are the index of the value_counts Series)\n",
    "custom_labels = [cat for cat in categories]  # Create custom labels\n",
    "plt.xticks(ticks=range(len(categories)), labels=custom_labels, rotation=45)  # Set custom labels with rotation\n",
    "\n",
    "# Show the plot\n",
    "plt.show()"
   ]
  },
  {
   "cell_type": "markdown",
   "id": "42c0a249-c05d-4c1c-9060-9ccf1e8490b7",
   "metadata": {},
   "source": [
    "## Preparing Data for Model"
   ]
  },
  {
   "cell_type": "code",
   "execution_count": 7,
   "id": "8c348fd8-a746-4363-96d6-be43cea1203d",
   "metadata": {},
   "outputs": [],
   "source": [
    "# Step 1: Create X and y\n",
    "X = df['review_text']\n",
    "y = pd.get_dummies(df['categorical_rating'])  # Step 2: One-hot encode y"
   ]
  },
  {
   "cell_type": "code",
   "execution_count": 8,
   "id": "b3dc54f7-25a2-44cf-ad63-2dbe4dcc5c70",
   "metadata": {},
   "outputs": [],
   "source": [
    "# Initial split: 80% for training, 20% for temporary dataset\n",
    "X_train, X_temp, y_train, y_temp = train_test_split(X, y, test_size=0.2, random_state=42)\n",
    "\n",
    "# Split the temporary dataset equally into validation and test sets: 10% each of the original dataset\n",
    "X_val, X_test, y_val, y_test = train_test_split(X_temp, y_temp, test_size=0.5, random_state=42)"
   ]
  },
  {
   "cell_type": "code",
   "execution_count": 9,
   "id": "5b4c0efc-126f-465c-b266-975f12a401c1",
   "metadata": {},
   "outputs": [
    {
     "name": "stderr",
     "output_type": "stream",
     "text": [
      "C:\\Users\\Chetouani\\anaconda3\\envs\\py310\\lib\\site-packages\\transformers\\tokenization_utils_base.py:2645: FutureWarning: The `pad_to_max_length` argument is deprecated and will be removed in a future version, use `padding=True` or `padding='longest'` to pad to the longest sequence in the batch, or use `padding='max_length'` to pad to a max length. In this case, you can give a specific length with `max_length` (e.g. `max_length=45`) or leave max_length to None to pad to the maximal input size of the model (e.g. 512 for Bert).\n",
      "  warnings.warn(\n"
     ]
    }
   ],
   "source": [
    "\n",
    "# Load the BERT tokenizer\n",
    "tokenizer = BertTokenizer.from_pretrained('bert-base-uncased')\n",
    "\n",
    "# Tokenize and prepare the data for BERT\n",
    "def encode_reviews(tokenizer, reviews, max_length):\n",
    "    return tokenizer.batch_encode_plus(\n",
    "        reviews,\n",
    "        add_special_tokens=True,\n",
    "        return_attention_mask=True,\n",
    "        pad_to_max_length=True,\n",
    "        max_length=max_length,\n",
    "        truncation = True,\n",
    "        return_tensors='tf',\n",
    "    )\n",
    "\n",
    "# Choose a maximum sequence length for BERT\n",
    "max_length = 256\n",
    "\n",
    "# Encode the datasets\n",
    "train_encodings = encode_reviews(tokenizer, X_train.tolist(), max_length)\n",
    "val_encodings = encode_reviews(tokenizer, X_val.tolist(), max_length)\n",
    "test_encodings = encode_reviews(tokenizer, X_test.tolist(), max_length)"
   ]
  },
  {
   "cell_type": "code",
   "execution_count": 10,
   "id": "6e432b5c-263b-484a-aaec-1e834dbc89d6",
   "metadata": {},
   "outputs": [
    {
     "name": "stderr",
     "output_type": "stream",
     "text": [
      "Some weights of the PyTorch model were not used when initializing the TF 2.0 model TFBertModel: ['cls.seq_relationship.weight', 'cls.predictions.transform.LayerNorm.weight', 'cls.predictions.transform.dense.bias', 'cls.predictions.transform.dense.weight', 'cls.predictions.transform.LayerNorm.bias', 'cls.predictions.bias', 'cls.seq_relationship.bias']\n",
      "- This IS expected if you are initializing TFBertModel from a PyTorch model trained on another task or with another architecture (e.g. initializing a TFBertForSequenceClassification model from a BertForPreTraining model).\n",
      "- This IS NOT expected if you are initializing TFBertModel from a PyTorch model that you expect to be exactly identical (e.g. initializing a TFBertForSequenceClassification model from a BertForSequenceClassification model).\n",
      "All the weights of TFBertModel were initialized from the PyTorch model.\n",
      "If your task is similar to the task the model of the checkpoint was trained on, you can already use TFBertModel for predictions without further training.\n"
     ]
    },
    {
     "name": "stdout",
     "output_type": "stream",
     "text": [
      "Model: \"model\"\n",
      "__________________________________________________________________________________________________\n",
      " Layer (type)                   Output Shape         Param #     Connected to                     \n",
      "==================================================================================================\n",
      " input_ids (InputLayer)         [(None, 256)]        0           []                               \n",
      "                                                                                                  \n",
      " attention_masks (InputLayer)   [(None, 256)]        0           []                               \n",
      "                                                                                                  \n",
      " tf_bert_model (TFBertModel)    TFBaseModelOutputWi  109482240   ['input_ids[0][0]',              \n",
      "                                thPoolingAndCrossAt               'attention_masks[0][0]']        \n",
      "                                tentions(last_hidde                                               \n",
      "                                n_state=(None, 256,                                               \n",
      "                                 768),                                                            \n",
      "                                 pooler_output=(Non                                               \n",
      "                                e, 768),                                                          \n",
      "                                 past_key_values=No                                               \n",
      "                                ne, hidden_states=N                                               \n",
      "                                one, attentions=Non                                               \n",
      "                                e, cross_attentions                                               \n",
      "                                =None)                                                            \n",
      "                                                                                                  \n",
      " tf.__operators__.getitem (Slic  (None, 768)         0           ['tf_bert_model[0][0]']          \n",
      " ingOpLambda)                                                                                     \n",
      "                                                                                                  \n",
      " dense (Dense)                  (None, 512)          393728      ['tf.__operators__.getitem[0][0]'\n",
      "                                                                 ]                                \n",
      "                                                                                                  \n",
      " dropout_37 (Dropout)           (None, 512)          0           ['dense[0][0]']                  \n",
      "                                                                                                  \n",
      " dense_1 (Dense)                (None, 256)          131328      ['dropout_37[0][0]']             \n",
      "                                                                                                  \n",
      " dense_2 (Dense)                (None, 3)            771         ['dense_1[0][0]']                \n",
      "                                                                                                  \n",
      "==================================================================================================\n",
      "Total params: 110,008,067\n",
      "Trainable params: 110,008,067\n",
      "Non-trainable params: 0\n",
      "__________________________________________________________________________________________________\n"
     ]
    }
   ],
   "source": [
    "from transformers import TFBertModel\n",
    "from tensorflow.keras.layers import Input, Dense, Dropout\n",
    "from tensorflow.keras.models import Model\n",
    "\n",
    "\n",
    "# Load the pre-trained BERT model\n",
    "bert = TFBertModel.from_pretrained('bert-base-uncased')\n",
    "\n",
    "# Build the model\n",
    "input_ids = Input(shape=(max_length,), dtype='int32', name='input_ids')\n",
    "attention_masks = Input(shape=(max_length,), dtype='int32', name='attention_masks')\n",
    "\n",
    "# Get the sequence output\n",
    "sequence_output = bert(input_ids, attention_mask=attention_masks)[0]\n",
    "\n",
    "# Select the first token's last hidden state\n",
    "cls_token = sequence_output[:, 0, :]\n",
    "\n",
    "# Add custom layers\n",
    "x = Dense(512, activation='relu')(cls_token)\n",
    "x = Dropout(0.1)(x)\n",
    "x = Dense(256, activation='relu')(x)\n",
    "output = Dense(y.shape[1], activation='softmax')(x)\n",
    "\n",
    "# Compile the model\n",
    "model = Model(inputs=[input_ids, attention_masks], outputs=output)\n",
    "\n",
    "# Adjust the learning rate\n",
    "optimizer = Adam(learning_rate=2e-5)\n",
    "\n",
    "# Compile the model with the new optimizer\n",
    "model.compile(optimizer=optimizer, loss='categorical_crossentropy', metrics=['accuracy'])\n",
    "\n",
    "# Summary of the model\n",
    "model.summary()"
   ]
  },
  {
   "cell_type": "code",
   "execution_count": 11,
   "id": "aef868b5-8991-44bf-a7f2-1b1e1963078e",
   "metadata": {},
   "outputs": [
    {
     "name": "stdout",
     "output_type": "stream",
     "text": [
      "Epoch 1/10\n",
      "WARNING:tensorflow:Gradients do not exist for variables ['tf_bert_model/bert/pooler/dense/kernel:0', 'tf_bert_model/bert/pooler/dense/bias:0'] when minimizing the loss. If you're using `model.compile()`, did you forget to provide a `loss` argument?\n",
      "WARNING:tensorflow:Gradients do not exist for variables ['tf_bert_model/bert/pooler/dense/kernel:0', 'tf_bert_model/bert/pooler/dense/bias:0'] when minimizing the loss. If you're using `model.compile()`, did you forget to provide a `loss` argument?\n",
      "251/251 [==============================] - 126s 355ms/step - loss: 0.2646 - accuracy: 0.9089 - val_loss: 0.2234 - val_accuracy: 0.9281\n",
      "Epoch 2/10\n",
      "251/251 [==============================] - 87s 344ms/step - loss: 0.1750 - accuracy: 0.9449 - val_loss: 0.1983 - val_accuracy: 0.9301\n",
      "Epoch 3/10\n",
      "251/251 [==============================] - 82s 327ms/step - loss: 0.1266 - accuracy: 0.9553 - val_loss: 0.2145 - val_accuracy: 0.9301\n",
      "Epoch 4/10\n",
      "251/251 [==============================] - 82s 329ms/step - loss: 0.0898 - accuracy: 0.9731 - val_loss: 0.2907 - val_accuracy: 0.9242\n",
      "Epoch 5/10\n",
      "251/251 [==============================] - 83s 332ms/step - loss: 0.0754 - accuracy: 0.9763 - val_loss: 0.2802 - val_accuracy: 0.9222\n",
      "Epoch 6/10\n",
      "251/251 [==============================] - 83s 329ms/step - loss: 0.0509 - accuracy: 0.9838 - val_loss: 0.5408 - val_accuracy: 0.9062\n",
      "Epoch 7/10\n",
      "251/251 [==============================] - 83s 329ms/step - loss: 0.0322 - accuracy: 0.9913 - val_loss: 0.3736 - val_accuracy: 0.9182\n",
      "Epoch 8/10\n",
      "251/251 [==============================] - 75s 301ms/step - loss: 0.0318 - accuracy: 0.9908 - val_loss: 0.3482 - val_accuracy: 0.9162\n",
      "Epoch 9/10\n",
      "251/251 [==============================] - 75s 300ms/step - loss: 0.0347 - accuracy: 0.9908 - val_loss: 0.4012 - val_accuracy: 0.9102\n",
      "Epoch 10/10\n",
      "251/251 [==============================] - 77s 305ms/step - loss: 0.0228 - accuracy: 0.9938 - val_loss: 0.4097 - val_accuracy: 0.9222\n"
     ]
    }
   ],
   "source": [
    "from tensorflow.keras.callbacks import ModelCheckpoint\n",
    "\n",
    "model_save_path = r\"D:\\Marketing Paper\\best_model_apple.h5\"\n",
    "\n",
    "checkpoint = ModelCheckpoint(model_save_path, monitor='val_accuracy', save_best_only=True)\n",
    "\n",
    "# Train the model\n",
    "history = model.fit(\n",
    "    [train_encodings['input_ids'], train_encodings['attention_mask']],\n",
    "    y_train,\n",
    "    validation_data=([\n",
    "        val_encodings['input_ids'], val_encodings['attention_mask']\n",
    "    ], y_val),\n",
    "    epochs=10,\n",
    "    batch_size=16,  # Specify your desired batch size here\n",
    "    callbacks=[checkpoint]\n",
    ")\n"
   ]
  },
  {
   "cell_type": "code",
   "execution_count": 12,
   "id": "202e256d-e01c-4ba4-ba68-3f5cd4f77aaa",
   "metadata": {},
   "outputs": [
    {
     "name": "stdout",
     "output_type": "stream",
     "text": [
      "WARNING:tensorflow:Error in loading the saved optimizer state. As a result, your model is starting with a freshly initialized optimizer.\n",
      "16/16 [==============================] - 10s 196ms/step - loss: 0.2490 - accuracy: 0.9301\n",
      "Test Loss: 0.24903960525989532, Test Accuracy: 0.9301397204399109\n"
     ]
    }
   ],
   "source": [
    "from tensorflow.keras.models import load_model\n",
    "\n",
    "# Load the best model\n",
    "best_model = load_model(model_save_path, custom_objects={'TFBertModel': TFBertModel})\n",
    "\n",
    "# # Recompile the model with the optimizer, loss, and metrics\n",
    "# model.compile(optimizer=Adam(learning_rate=2e-5), loss='categorical_crossentropy', metrics=['accuracy'])\n",
    "\n",
    "# Evaluate the model on the test set\n",
    "test_loss, test_acc = best_model.evaluate(\n",
    "    [test_encodings['input_ids'], test_encodings['attention_mask']],\n",
    "    y_test\n",
    ")\n",
    "\n",
    "print(f\"Test Loss: {test_loss}, Test Accuracy: {test_acc}\")"
   ]
  },
  {
   "cell_type": "code",
   "execution_count": 14,
   "id": "e1c534b9-45bc-471e-998b-c0305801341e",
   "metadata": {},
   "outputs": [
    {
     "name": "stdout",
     "output_type": "stream",
     "text": [
      "16/16 [==============================] - 3s 184ms/step\n",
      "              precision    recall  f1-score   support\n",
      "\n",
      "    negative       0.73      0.72      0.73        46\n",
      "     neutral       0.00      0.00      0.00        19\n",
      "    positive       0.95      0.99      0.97       436\n",
      "\n",
      "    accuracy                           0.93       501\n",
      "   macro avg       0.56      0.57      0.57       501\n",
      "weighted avg       0.89      0.93      0.91       501\n",
      "\n",
      "Accuracy for class negative: 0.72\n",
      "Accuracy for class neutral: 0.00\n",
      "Accuracy for class positive: 0.99\n"
     ]
    },
    {
     "name": "stderr",
     "output_type": "stream",
     "text": [
      "C:\\Users\\Chetouani\\anaconda3\\envs\\py310\\lib\\site-packages\\sklearn\\metrics\\_classification.py:1509: UndefinedMetricWarning: Precision is ill-defined and being set to 0.0 in labels with no predicted samples. Use `zero_division` parameter to control this behavior.\n",
      "  _warn_prf(average, modifier, f\"{metric.capitalize()} is\", len(result))\n",
      "C:\\Users\\Chetouani\\anaconda3\\envs\\py310\\lib\\site-packages\\sklearn\\metrics\\_classification.py:1509: UndefinedMetricWarning: Precision is ill-defined and being set to 0.0 in labels with no predicted samples. Use `zero_division` parameter to control this behavior.\n",
      "  _warn_prf(average, modifier, f\"{metric.capitalize()} is\", len(result))\n",
      "C:\\Users\\Chetouani\\anaconda3\\envs\\py310\\lib\\site-packages\\sklearn\\metrics\\_classification.py:1509: UndefinedMetricWarning: Precision is ill-defined and being set to 0.0 in labels with no predicted samples. Use `zero_division` parameter to control this behavior.\n",
      "  _warn_prf(average, modifier, f\"{metric.capitalize()} is\", len(result))\n"
     ]
    }
   ],
   "source": [
    "from sklearn.metrics import classification_report, confusion_matrix\n",
    "\n",
    "# Assuming `test_encodings` is already prepared similar to `train_encodings` and `val_encodings`\n",
    "predictions = best_model.predict([test_encodings['input_ids'], test_encodings['attention_mask']])\n",
    "\n",
    "# Assuming you have predictions from the model\n",
    "predicted_class_indices = predictions.argmax(axis=1)\n",
    "\n",
    "class_names = y_test.columns.tolist() \n",
    "\n",
    "# Convert y_test from one-hot encoding to class indices\n",
    "true_class_indices = y_test.idxmax(axis=1).apply(class_names.index).values\n",
    "\n",
    "\n",
    "# Generate the classification report using the true and predicted class indices\n",
    "report = classification_report(true_class_indices, predicted_class_indices, target_names=class_names)\n",
    "print(report)\n",
    "\n",
    "# Generate the confusion matrix\n",
    "cm = confusion_matrix(true_class_indices, predicted_class_indices)\n",
    "\n",
    "# Calculate accuracy for each class\n",
    "class_accuracies = cm.diagonal() / cm.sum(axis=1)\n",
    "for class_name, accuracy in zip(class_names, class_accuracies):\n",
    "    print(f'Accuracy for class {class_name}: {accuracy:.2f}')"
   ]
  },
  {
   "cell_type": "code",
   "execution_count": null,
   "id": "ba7db7ff-c2b6-40ae-bcca-cee9cc37a2b0",
   "metadata": {},
   "outputs": [],
   "source": []
  }
 ],
 "metadata": {
  "kernelspec": {
   "display_name": "Python 3 (ipykernel)",
   "language": "python",
   "name": "python3"
  },
  "language_info": {
   "codemirror_mode": {
    "name": "ipython",
    "version": 3
   },
   "file_extension": ".py",
   "mimetype": "text/x-python",
   "name": "python",
   "nbconvert_exporter": "python",
   "pygments_lexer": "ipython3",
   "version": "3.10.13"
  }
 },
 "nbformat": 4,
 "nbformat_minor": 5
}
